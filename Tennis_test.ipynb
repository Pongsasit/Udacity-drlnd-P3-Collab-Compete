{
 "cells": [
  {
   "cell_type": "code",
   "execution_count": 1,
   "id": "0fc868c0",
   "metadata": {},
   "outputs": [],
   "source": [
    "from unityagents import UnityEnvironment\n",
    "import numpy as np\n",
    "\n",
    "import matplotlib.pyplot as plt\n",
    "import torch"
   ]
  },
  {
   "cell_type": "code",
   "execution_count": 2,
   "id": "001eaf55",
   "metadata": {},
   "outputs": [
    {
     "name": "stdout",
     "output_type": "stream",
     "text": [
      "using device:  cuda:0\n"
     ]
    },
    {
     "name": "stderr",
     "output_type": "stream",
     "text": [
      "INFO:unityagents:\n",
      "'Academy' started successfully!\n",
      "Unity Academy name: Academy\n",
      "        Number of Brains: 1\n",
      "        Number of External Brains : 1\n",
      "        Lesson number : 0\n",
      "        Reset Parameters :\n",
      "\t\t\n",
      "Unity brain name: TennisBrain\n",
      "        Number of Visual Observations (per agent): 0\n",
      "        Vector Observation space type: continuous\n",
      "        Vector Observation space size (per agent): 8\n",
      "        Number of stacked Vector Observation: 3\n",
      "        Vector Action space type: continuous\n",
      "        Vector Action space size (per agent): 2\n",
      "        Vector Action descriptions: , \n"
     ]
    }
   ],
   "source": [
    "device = torch.device(\"cuda:0\" if torch.cuda.is_available() else \"cpu\")\n",
    "print(\"using device: \", device)\n",
    "\n",
    "env = UnityEnvironment(file_name=\"../Tennis_Linux/Tennis.x86_64\", no_graphics=False)\n",
    "\n",
    "brain_name = env.brain_names[0]\n",
    "brain = env.brains[brain_name]\n",
    "env_info = env.reset(train_mode=True)[brain_name]  # reset the environment\n",
    "num_agents = len(env_info.agents)\n",
    "action_size = brain.vector_action_space_size\n",
    "states = env_info.vector_observations\n",
    "state_size = states.shape[1]"
   ]
  },
  {
   "cell_type": "code",
   "execution_count": 3,
   "id": "a5d37bec",
   "metadata": {},
   "outputs": [],
   "source": [
    "# print(\"training the DDPG model\")\n",
    "\n",
    "# agent1 = Agent(state_size=state_size * 2, action_size=action_size)\n",
    "# agent2 = Agent(state_size=state_size * 2, action_size=action_size)\n",
    "\n",
    "# agent1.online_actor.load_state_dict(torch.load('actor_model1.path'))\n",
    "# agent1.online_critic.load_state_dict(torch.load('critic_model1.path'))\n",
    "\n",
    "# agent2.online_actor.load_state_dict(torch.load('actor_model2.path'))\n",
    "# agent2.online_critic.load_state_dict(torch.load('critic_model2.path'))"
   ]
  },
  {
   "cell_type": "code",
   "execution_count": 4,
   "id": "547099be",
   "metadata": {},
   "outputs": [],
   "source": [
    "# num_episodes = 10\n",
    "\n",
    "# agent_scores = np.zeros(num_agents)\n",
    "\n",
    "# for episode in range(1, num_episodes+1):\n",
    "\n",
    "#     env_info = env.reset(train_mode=False)[brain_name]\n",
    "\n",
    "#     state = env_info.vector_observations\n",
    "#     state = np.reshape(state,(1,48))\n",
    "\n",
    "#     agent1.reset()\n",
    "#     agent2.reset()\n",
    "\n",
    "\n",
    "\n",
    "#     while True:\n",
    "\n",
    "#         action1 = agent1.act(state, add_noise=False)\n",
    "#         action2 = agent2.act(state, add_noise=False)\n",
    "\n",
    "#         action =[action1, action2]            \n",
    "#         env_info = env.step(action)[brain_name]\n",
    "#         next_state = env_info.vector_observations\n",
    "#         next_state = np.reshape(next_state, (1, -1))\n",
    "#         rewards = env_info.rewards\n",
    "#         dones = env_info.local_done\n",
    "\n",
    "#         agent_scores += rewards\n",
    "\n",
    "#         state = next_state\n",
    "\n",
    "#         if np.any(dones):\n",
    "#             break\n",
    "\n",
    "\n",
    "#     print(\"\\r Agent 1: {} x {} : Agent 2\".format(agent_scores[0], agent_scores[1]), end=\"\", flush=True)\n",
    "\n",
    "# print(\"Agent {} wins with {} points\".format(np.argmax(agent_scores), np.max(agent_scores)))"
   ]
  },
  {
   "cell_type": "code",
   "execution_count": 5,
   "id": "bde8e3fe",
   "metadata": {},
   "outputs": [],
   "source": [
    "from maddpg_agents import Maddpg\n",
    "from hyperparameters import *\n",
    "import torch\n",
    "from collections import namedtuple, deque\n",
    "import random\n",
    "import matplotlib.pyplot as plt\n",
    "import pandas as pd\n"
   ]
  },
  {
   "cell_type": "code",
   "execution_count": 6,
   "id": "533f21c4",
   "metadata": {},
   "outputs": [],
   "source": [
    "\n",
    "# # Seeding\n",
    "# np.random.seed(SEED)\n",
    "# torch.manual_seed(SEED)\n",
    "\n",
    "# # Instantiate the MADDPG agents\n",
    "# maddpg = Maddpg(state_size, action_size, num_agents, SEED)\n",
    "\n",
    "# maddpg.agents[0].critic_local.load_state_dict(torch.load('checkpoint_critic_local_0.pth'))\n",
    "# maddpg.agents[0].critic_target.load_state_dict(torch.load('checkpoint_critic_target_0.pth'))\n",
    "# maddpg.agents[0].actor_local.load_state_dict(torch.load('checkpoint_actor_local_0.pth'))\n",
    "# maddpg.agents[0].actor_target.load_state_dict(torch.load('checkpoint_actor_target_0.pth'))\n",
    "\n",
    "\n",
    "\n",
    "# maddpg.agents[1].critic_local.load_state_dict(torch.load('checkpoint_critic_local_1.pth'))\n",
    "# maddpg.agents[1].critic_target.load_state_dict(torch.load('checkpoint_critic_target_1.pth'))\n",
    "# maddpg.agents[1].actor_local.load_state_dict(torch.load('checkpoint_actor_local_1.pth'))\n",
    "# maddpg.agents[1].actor_target.load_state_dict(torch.load('checkpoint_actor_target_1.pth'))\n"
   ]
  },
  {
   "cell_type": "code",
   "execution_count": 7,
   "id": "1ff8024f",
   "metadata": {},
   "outputs": [],
   "source": [
    "# all_steps=0\n",
    "# for i in range(1, 6):                                      # play game for 5 episodes\n",
    "#     env_info = env.reset(train_mode=False)[brain_name]     # reset the environment    \n",
    "#     states = env_info.vector_observations                  # get the current state (for each agent)\n",
    "#     scores = np.zeros(num_agents)                          # initialize the score (for each agent)\n",
    "#     noise = NOISE\n",
    "#     while True:\n",
    "#         all_steps+=1\n",
    "        \n",
    "#         actions = maddpg.act(states, noise)                    # retrieve actions to performe for each agents \n",
    "#         noise *= NOISE_REDUCTION                               # Decrease action noise\n",
    "#         env_info = env.step(actions)[brain_name]               # send all actions to tne environment\n",
    "#         next_states = env_info.vector_observations             # get next state for each agent\n",
    "#         rewards = env_info.rewards                             # get reward (for each agent)\n",
    "#         dones = env_info.local_done                            # see if episode finished\n",
    "\n",
    "#         # Save experience in replay memory, and use random sample from buffer to learn\n",
    "#         maddpg.step(states, actions, rewards, next_states, dones, all_steps)  \n",
    "#         scores += env_info.rewards                             # update the score (for each agent)\n",
    "#         states = next_states                                   # roll over states to next time step\n",
    "#         if np.any(dones):                                      # exit loop if episode finished\n",
    "#             #print(\"   ** Debug: episode= {} steps={} rewards={} dones={}\".format(i_episode, steps,rewards,dones))\n",
    "#             break\n",
    "\n",
    "#     print('Score (max over agents) from episode {}: {}'.format(i, np.max(scores)))"
   ]
  },
  {
   "cell_type": "code",
   "execution_count": 8,
   "id": "150bf45f",
   "metadata": {},
   "outputs": [
    {
     "name": "stderr",
     "output_type": "stream",
     "text": [
      "/home/pongsasit/anaconda3/envs/drlnd/lib/python3.6/site-packages/torch/nn/functional.py:1698: UserWarning: nn.functional.tanh is deprecated. Use torch.tanh instead.\n",
      "  warnings.warn(\"nn.functional.tanh is deprecated. Use torch.tanh instead.\")\n",
      "/media/pongsasit/480/deepRlUdacity/deep-reinforcement-learning/p3_collab-compet/tennis2/maddpg_agents.py:131: UserWarning: Using a target size (torch.Size([200, 2])) that is different to the input size (torch.Size([200, 1])). This will likely lead to incorrect results due to broadcasting. Please ensure they have the same size.\n",
      "  critic_loss = F.mse_loss(Q_expected, Q_targets)\n"
     ]
    },
    {
     "name": "stdout",
     "output_type": "stream",
     "text": [
      "Score (max over agents) from episode 1: 0.6900000106543303\n",
      "Score (max over agents) from episode 2: 0.10000000149011612\n",
      "Score (max over agents) from episode 3: 0.10000000149011612\n",
      "Score (max over agents) from episode 4: 0.09000000171363354\n",
      "Score (max over agents) from episode 5: 0.09000000171363354\n"
     ]
    }
   ],
   "source": [
    "\n",
    "# Seeding\n",
    "np.random.seed(SEED)\n",
    "torch.manual_seed(SEED)\n",
    "\n",
    "# Instantiate the MADDPG agents\n",
    "maddpg = Maddpg(state_size, action_size, num_agents, SEED)\n",
    "\n",
    "# maddpg.agents[0].critic_local.load_state_dict(torch.load('checkpoint_critic_local_0.pth'))\n",
    "# maddpg.agents[0].critic_target.load_state_dict(torch.load('checkpoint_critic_target_0.pth'))\n",
    "maddpg.agents[0].actor_local.load_state_dict(torch.load('checkpoint_actor_local_0.pth'))\n",
    "# maddpg.agents[0].actor_target.load_state_dict(torch.load('checkpoint_actor_target_0.pth'))\n",
    "\n",
    "\n",
    "\n",
    "# maddpg.agents[1].critic_local.load_state_dict(torch.load('checkpoint_critic_local_1.pth'))\n",
    "# maddpg.agents[1].critic_target.load_state_dict(torch.load('checkpoint_critic_target_1.pth'))\n",
    "maddpg.agents[1].actor_local.load_state_dict(torch.load('checkpoint_actor_local_1.pth'))\n",
    "# maddpg.agents[1].actor_target.load_state_dict(torch.load('checkpoint_actor_target_1.pth'))\n",
    "\n",
    "\n",
    "all_steps=0\n",
    "for i in range(1, 6):                                      # play game for 5 episodes\n",
    "    env_info = env.reset(train_mode=False)[brain_name]     # reset the environment    \n",
    "    states = env_info.vector_observations                  # get the current state (for each agent)\n",
    "    scores = np.zeros(num_agents)                          # initialize the score (for each agent)\n",
    "    noise = NOISE\n",
    "    while True:\n",
    "        all_steps+=1\n",
    "        \n",
    "        actions = maddpg.act(states, noise)                    # retrieve actions to performe for each agents \n",
    "        noise *= NOISE_REDUCTION                               # Decrease action noise\n",
    "        env_info = env.step(actions)[brain_name]               # send all actions to tne environment\n",
    "        next_states = env_info.vector_observations             # get next state for each agent\n",
    "        rewards = env_info.rewards                             # get reward (for each agent)\n",
    "        dones = env_info.local_done                            # see if episode finished\n",
    "\n",
    "        # Save experience in replay memory, and use random sample from buffer to learn\n",
    "        maddpg.step(states, actions, rewards, next_states, dones, all_steps)  \n",
    "        scores += env_info.rewards                             # update the score (for each agent)\n",
    "        states = next_states                                   # roll over states to next time step\n",
    "        if np.any(dones):                                      # exit loop if episode finished\n",
    "            #print(\"   ** Debug: episode= {} steps={} rewards={} dones={}\".format(i_episode, steps,rewards,dones))\n",
    "            break\n",
    "\n",
    "    print('Score (max over agents) from episode {}: {}'.format(i, np.max(scores)))"
   ]
  },
  {
   "cell_type": "code",
   "execution_count": 9,
   "id": "b6b2c668",
   "metadata": {},
   "outputs": [],
   "source": [
    "env.close()"
   ]
  },
  {
   "cell_type": "code",
   "execution_count": 10,
   "id": "3b0275bf",
   "metadata": {},
   "outputs": [],
   "source": [
    "# # agent1.online_actor.load_state_dict(torch.load('actor_model1.path'))\n",
    "\n",
    "# # Monitor the score    \n",
    "# scores_deque = deque(maxlen=100)\n",
    "# all_scores = []\n",
    "# all_avg_score = []\n",
    "\n",
    "\n",
    "# # Intialize amplitude OU noise (will decay during training)\n",
    "# noise = NOISE\n",
    "\n",
    "# all_steps =0   # Monitor total number of steps performed\n",
    "\n",
    "# # Training Loop\n",
    "# for i_episode in range(21):  \n",
    "\n",
    "#     env_info = env.reset(train_mode=False)[brain_name]          # reset the environment  \n",
    "# #     maddpg.reset()                                             # reset the agents \n",
    "\n",
    "#     states = env_info.vector_observations                      # get the current state for each agent \n",
    "#     scores = np.zeros(num_agents)                              # initialize the score (for each agent)\n",
    "\n",
    "#     for steps in range(NB_STEPS):\n",
    "\n",
    "#         all_steps+=1\n",
    "\n",
    "#         actions = maddpg.act(states, noise)                    # retrieve actions to performe for each agents \n",
    "#         noise *= NOISE_REDUCTION                               # Decrease action noise\n",
    "#         env_info = env.step(actions)[brain_name]               # send all actions to tne environment\n",
    "#         next_states = env_info.vector_observations             # get next state for each agent\n",
    "#         rewards = env_info.rewards                             # get reward (for each agent)\n",
    "#         dones = env_info.local_done                            # see if episode finished\n",
    "\n",
    "#         # Save experience in replay memory, and use random sample from buffer to learn\n",
    "#         maddpg.step(states, actions, rewards, next_states, dones, i_episode)  \n",
    "\n",
    "#         scores += env_info.rewards                             # update the score (for each agent)\n",
    "#         states = next_states                                   # roll over states to next time step\n",
    "#         if np.any(dones):                                      # exit loop if episode finished\n",
    "#             #print(\"   ** Debug: episode= {} steps={} rewards={} dones={}\".format(i_episode, steps,rewards,dones))\n",
    "#             break\n",
    "\n",
    "# print(\"\\r Agent 1: {} x {} : Agent 2\".format(scores[0], scores[1]), end=\"\", flush=True)\n",
    "# print(\"Agent {} wins with {} points\".format(np.argmax(scores), np.max(scores)))"
   ]
  },
  {
   "cell_type": "code",
   "execution_count": 11,
   "id": "a20c6fd1",
   "metadata": {},
   "outputs": [
    {
     "ename": "UnityEnvironmentException",
     "evalue": "No Unity environment is loaded.",
     "output_type": "error",
     "traceback": [
      "\u001b[0;31m---------------------------------------------------------------------------\u001b[0m",
      "\u001b[0;31mUnityEnvironmentException\u001b[0m                 Traceback (most recent call last)",
      "\u001b[0;32m<ipython-input-11-1baceacf4cb1>\u001b[0m in \u001b[0;36m<module>\u001b[0;34m\u001b[0m\n\u001b[0;32m----> 1\u001b[0;31m \u001b[0menv\u001b[0m\u001b[0;34m.\u001b[0m\u001b[0mclose\u001b[0m\u001b[0;34m(\u001b[0m\u001b[0;34m)\u001b[0m\u001b[0;34m\u001b[0m\u001b[0;34m\u001b[0m\u001b[0m\n\u001b[0m",
      "\u001b[0;32m~/anaconda3/envs/drlnd/lib/python3.6/site-packages/unityagents/environment.py\u001b[0m in \u001b[0;36mclose\u001b[0;34m(self)\u001b[0m\n\u001b[1;32m    392\u001b[0m             \u001b[0mself\u001b[0m\u001b[0;34m.\u001b[0m\u001b[0m_close\u001b[0m\u001b[0;34m(\u001b[0m\u001b[0;34m)\u001b[0m\u001b[0;34m\u001b[0m\u001b[0;34m\u001b[0m\u001b[0m\n\u001b[1;32m    393\u001b[0m         \u001b[0;32melse\u001b[0m\u001b[0;34m:\u001b[0m\u001b[0;34m\u001b[0m\u001b[0;34m\u001b[0m\u001b[0m\n\u001b[0;32m--> 394\u001b[0;31m             \u001b[0;32mraise\u001b[0m \u001b[0mUnityEnvironmentException\u001b[0m\u001b[0;34m(\u001b[0m\u001b[0;34m\"No Unity environment is loaded.\"\u001b[0m\u001b[0;34m)\u001b[0m\u001b[0;34m\u001b[0m\u001b[0;34m\u001b[0m\u001b[0m\n\u001b[0m\u001b[1;32m    395\u001b[0m \u001b[0;34m\u001b[0m\u001b[0m\n\u001b[1;32m    396\u001b[0m     \u001b[0;32mdef\u001b[0m \u001b[0m_close\u001b[0m\u001b[0;34m(\u001b[0m\u001b[0mself\u001b[0m\u001b[0;34m)\u001b[0m\u001b[0;34m:\u001b[0m\u001b[0;34m\u001b[0m\u001b[0;34m\u001b[0m\u001b[0m\n",
      "\u001b[0;31mUnityEnvironmentException\u001b[0m: No Unity environment is loaded."
     ]
    }
   ],
   "source": [
    "env.close()"
   ]
  },
  {
   "cell_type": "code",
   "execution_count": null,
   "id": "192f9fc9",
   "metadata": {},
   "outputs": [],
   "source": []
  }
 ],
 "metadata": {
  "kernelspec": {
   "display_name": "Python 3",
   "language": "python",
   "name": "python3"
  },
  "language_info": {
   "codemirror_mode": {
    "name": "ipython",
    "version": 3
   },
   "file_extension": ".py",
   "mimetype": "text/x-python",
   "name": "python",
   "nbconvert_exporter": "python",
   "pygments_lexer": "ipython3",
   "version": "3.6.13"
  }
 },
 "nbformat": 4,
 "nbformat_minor": 5
}
